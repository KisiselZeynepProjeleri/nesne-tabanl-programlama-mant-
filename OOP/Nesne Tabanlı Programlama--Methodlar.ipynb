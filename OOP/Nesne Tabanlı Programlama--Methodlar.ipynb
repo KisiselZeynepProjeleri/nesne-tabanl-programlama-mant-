{
 "cells": [
  {
   "cell_type": "markdown",
   "metadata": {},
   "source": [
    "bu konuda bir sınıf içerisinde methodlarımızı nasıl tanımlayacağımızı öğrenmeye çalışacağız.\n",
    "bunun için ilk olarak bir yazılımcı sınıfı tanımlayalım"
   ]
  },
  {
   "cell_type": "code",
   "execution_count": 1,
   "metadata": {},
   "outputs": [],
   "source": [
    "class Yazılımcı():\n",
    "    def __init__(self,isim,soyisim,numara,maaş,diller):\n",
    "        self.isim=isim\n",
    "        self.soyisim=soyisim\n",
    "        self.numara=numara\n",
    "        self.maaş=maaş\n",
    "        self.diller=diller"
   ]
  },
  {
   "cell_type": "code",
   "execution_count": null,
   "metadata": {},
   "outputs": [],
   "source": [
    "yazılımcı1=Yazılımcı(\"yunus emre\",\"kayış\",12345,30000,[\"python\",\"java\"])\n"
   ]
  },
  {
   "cell_type": "code",
   "execution_count": 6,
   "metadata": {},
   "outputs": [],
   "source": [
    "yazılımcı2=Yazılımcı(\"mert\",\"bozkurt\",654987,35000,[\"matlab\",\"R\",\"C\"])"
   ]
  },
  {
   "cell_type": "code",
   "execution_count": 7,
   "metadata": {},
   "outputs": [
    {
     "data": {
      "text/plain": [
       "'bozkurt'"
      ]
     },
     "execution_count": 7,
     "metadata": {},
     "output_type": "execute_result"
    }
   ],
   "source": [
    "yazılımcı2.soyisim"
   ]
  },
  {
   "cell_type": "code",
   "execution_count": 8,
   "metadata": {},
   "outputs": [
    {
     "data": {
      "text/plain": [
       "['python', 'java']"
      ]
     },
     "execution_count": 8,
     "metadata": {},
     "output_type": "execute_result"
    }
   ],
   "source": [
    "yazılımcı1.diller"
   ]
  },
  {
   "cell_type": "markdown",
   "metadata": {},
   "source": [
    "önceki konudan bunların nasıl yapıldığını biliyoruz.peki bu classa methodlarımızı nasıl tanımlayabiliriz. aynı __init__ methodunu tanımladığımız gibi\n",
    "bir classa istediğimiz kadarmethod tanımlayabiliriz. örneğin yazılımcı classına BilgileriniGöster isimli bir method tanımlayalım"
   ]
  },
  {
   "cell_type": "code",
   "execution_count": 9,
   "metadata": {},
   "outputs": [],
   "source": [
    "class Yazılımcı():\n",
    "    def __init__(self,isim,soyisim,numara,maaş,diller):\n",
    "        self.isim=isim\n",
    "        self.soyisim=soyisim\n",
    "        self.numara=numara\n",
    "        self.maaş=maaş\n",
    "        self.diller=diller\n",
    "    def BilgileriniGöster(self):\n",
    "        print(f\"\"\"\"\n",
    "              Çalışan Bilgisi:\n",
    "              İsim:{self.isim}\n",
    "              Soyisim:{self.soyisim}\n",
    "              Şirket Numarası:{self.numara}\n",
    "              Maaş:{self.maaş}\n",
    "              Diller:{self.diller}\n",
    "            \"\"\")\n"
   ]
  },
  {
   "cell_type": "code",
   "execution_count": 11,
   "metadata": {},
   "outputs": [],
   "source": [
    "yazılımcı1=Yazılımcı(\"burak\",\"oyuncu\",12345,30000,[\"python\",\"css\",\"html\"])"
   ]
  },
  {
   "cell_type": "code",
   "execution_count": 12,
   "metadata": {},
   "outputs": [
    {
     "name": "stdout",
     "output_type": "stream",
     "text": [
      "\"\n",
      "              Çalışan Bilgisi:\n",
      "              İsim:burak\n",
      "              Soyisim:oyuncu\n",
      "              Şirket Numarası:12345\n",
      "              Maaş:30000\n",
      "              Diller:['python', 'css', 'html']\n",
      "            \n"
     ]
    }
   ],
   "source": [
    "yazılımcı1.BilgileriniGöster()"
   ]
  },
  {
   "cell_type": "markdown",
   "metadata": {},
   "source": [
    "burada BilgileriniGöster isimli method tanımlayarak her bir özel değerini ekrana derli toplu bir şekilde yazdırmış olduk. methodlarımızı yazarken dikkat etmemiz gereken "
   ]
  },
  {
   "cell_type": "code",
   "execution_count": 1,
   "metadata": {},
   "outputs": [],
   "source": [
    "class Yazılımcı():\n",
    "    def __init__(self,isim,soyisim,numara,maaş,diller):\n",
    "        self.isim=isim\n",
    "        self.soyisim=soyisim\n",
    "        self.numara=numara\n",
    "        self.maaş=maaş\n",
    "        self.diller=diller\n",
    "    def BilgileriniGöster(self):\n",
    "        print(f\"\"\"\"\n",
    "              Çalışan Bilgisi:\n",
    "              İsim:{self.isim}\n",
    "              Soyisim:{self.soyisim}\n",
    "              Şirket Numarası:{self.numara}\n",
    "              Maaş:{self.maaş}\n",
    "              Diller:{self.diller}\n",
    "            \"\"\")\n",
    "    def dil_ekle(self,yeni_dil):\n",
    "        print(\"Dil ekleniyor\")\n",
    "        self.diller.append(yeni_dil)\n",
    "    def maaş_yükselt(self,zam_miktarı):\n",
    "        print(\"maaş yükseltiliyor\")\n",
    "        self.maaş+=zam_miktarı\n"
   ]
  },
  {
   "cell_type": "code",
   "execution_count": 3,
   "metadata": {},
   "outputs": [],
   "source": [
    "yazılımcı1=Yazılımcı(\"zeynep\",\"doğan\",123456,30000,[\"python\",\"java\",\"c+\"])"
   ]
  },
  {
   "cell_type": "code",
   "execution_count": 4,
   "metadata": {},
   "outputs": [
    {
     "name": "stdout",
     "output_type": "stream",
     "text": [
      "\"\n",
      "              Çalışan Bilgisi:\n",
      "              İsim:zeynep\n",
      "              Soyisim:doğan\n",
      "              Şirket Numarası:123456\n",
      "              Maaş:30000\n",
      "              Diller:['python', 'java', 'c+']\n",
      "            \n"
     ]
    }
   ],
   "source": [
    "yazılımcı1.BilgileriniGöster()"
   ]
  },
  {
   "cell_type": "code",
   "execution_count": 5,
   "metadata": {},
   "outputs": [
    {
     "name": "stdout",
     "output_type": "stream",
     "text": [
      "Dil ekleniyor\n"
     ]
    }
   ],
   "source": [
    "yazılımcı1.dil_ekle(\"java script\")"
   ]
  },
  {
   "cell_type": "code",
   "execution_count": 6,
   "metadata": {},
   "outputs": [
    {
     "name": "stdout",
     "output_type": "stream",
     "text": [
      "maaş yükseltiliyor\n"
     ]
    }
   ],
   "source": [
    "yazılımcı1.maaş_yükselt(10000)"
   ]
  },
  {
   "cell_type": "code",
   "execution_count": 7,
   "metadata": {},
   "outputs": [
    {
     "name": "stdout",
     "output_type": "stream",
     "text": [
      "\"\n",
      "              Çalışan Bilgisi:\n",
      "              İsim:zeynep\n",
      "              Soyisim:doğan\n",
      "              Şirket Numarası:123456\n",
      "              Maaş:40000\n",
      "              Diller:['python', 'java', 'c+', 'java script']\n",
      "            \n"
     ]
    }
   ],
   "source": [
    "yazılımcı1.BilgileriniGöster()"
   ]
  },
  {
   "cell_type": "code",
   "execution_count": null,
   "metadata": {},
   "outputs": [],
   "source": []
  }
 ],
 "metadata": {
  "kernelspec": {
   "display_name": "sanal_ortam",
   "language": "python",
   "name": "python3"
  },
  "language_info": {
   "codemirror_mode": {
    "name": "ipython",
    "version": 3
   },
   "file_extension": ".py",
   "mimetype": "text/x-python",
   "name": "python",
   "nbconvert_exporter": "python",
   "pygments_lexer": "ipython3",
   "version": "3.12.1"
  }
 },
 "nbformat": 4,
 "nbformat_minor": 2
}
