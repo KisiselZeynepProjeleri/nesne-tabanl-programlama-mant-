{
 "cells": [
  {
   "cell_type": "markdown",
   "metadata": {},
   "source": [
    "**NESNE TABANLI PROGRAMLAMA MANTIĞI**"
   ]
  },
  {
   "cell_type": "markdown",
   "metadata": {},
   "source": [
    "Bu konuyla berbaber Nesne Tabanlı Programlamaya giriş yapıyoruz ve bu konuda biraz Nesne Tabanlı Programalama hakkında konuşacağız. Nesne tabanlı programlama ingilizce ismiyle * Object Oriented Programming* en basit anlamıyla gerçek hayatı programlamaya uyarlamak için düşünülebilir. Örneğin bir öğrenci otomasyon sistemi yazmak istiyoruz. Bunun için öğretmenleri öğrencileri ve kursları aslında birer nesne olarak oluşturamamız gerekiyor.Böyle bir sistemi programlamaya gerçekleştirmek için aslında her nesnenin yapsını tanımlayıp daha sonra bu yapılardan nesneler üretmemiz gerekiyor.İste nesne tabanlı programlama en basit anlamıyla bu şekildedir. Şimdi obje veya nesne nedir anlamaya çalışalım."
   ]
  },
  {
   "cell_type": "markdown",
   "metadata": {},
   "source": [
    "**OBJE NEDİR**"
   ]
  },
  {
   "cell_type": "markdown",
   "metadata": {},
   "source": [
    "Etrafımıza baktığımızda aslında her şeyin bir eşyanın objesi olduğunu görüyoruz. Örneğin bir tane televizyon kumandasını düşünelim.Bu kumandanın kendi değişik özellikleri (attribute) ve fonksiyonları(method) bulunuyor. Örneğin kumandanın markası, tuşları aslında bu kumandanın özelliklerindendir(attributes). Kumandanın kırmızı tuşuna bastığımızda televizyonun kapanması ve ses kapatma tuşuna bastığımızda sesin kısılması bu kumandanın methodlarıdır. Bunun gibi Pythondaki aslında her şey bir objedir. Örneğin listelere bakacak olursak bu liste objenin bir methodu ve özelliği bulunur."
   ]
  },
  {
   "cell_type": "code",
   "execution_count": 6,
   "metadata": {},
   "outputs": [],
   "source": [
    "liste=[1,2,3,4,5] #liste onjesi oluşturduk"
   ]
  },
  {
   "cell_type": "code",
   "execution_count": 7,
   "metadata": {},
   "outputs": [
    {
     "name": "stdout",
     "output_type": "stream",
     "text": [
      "[1, 2, 3, 4, 5, 6]\n"
     ]
    }
   ],
   "source": [
    "liste.append(6) #append methodu\n",
    "print (liste)"
   ]
  },
  {
   "cell_type": "code",
   "execution_count": 8,
   "metadata": {},
   "outputs": [
    {
     "name": "stdout",
     "output_type": "stream",
     "text": [
      "<class 'list'>\n"
     ]
    }
   ],
   "source": [
    "print(type(liste)) #class list"
   ]
  },
  {
   "cell_type": "code",
   "execution_count": 9,
   "metadata": {},
   "outputs": [
    {
     "name": "stdout",
     "output_type": "stream",
     "text": [
      "<class 'dict'>\n"
     ]
    }
   ],
   "source": [
    "sözlük=dict() #dict classından sözlük isimli nesne oluşturduk\n",
    "print(type(sözlük))"
   ]
  },
  {
   "cell_type": "code",
   "execution_count": 10,
   "metadata": {},
   "outputs": [],
   "source": [
    "def toplama(a,b):\n",
    "    return a+b"
   ]
  },
  {
   "cell_type": "code",
   "execution_count": 11,
   "metadata": {},
   "outputs": [
    {
     "name": "stdout",
     "output_type": "stream",
     "text": [
      "<class 'function'>\n"
     ]
    }
   ],
   "source": [
    "print(type(toplama)) #function classından toplama isimli bir nesne oluşturdum"
   ]
  }
 ],
 "metadata": {
  "kernelspec": {
   "display_name": "sanal_ortam",
   "language": "python",
   "name": "python3"
  },
  "language_info": {
   "codemirror_mode": {
    "name": "ipython",
    "version": 3
   },
   "file_extension": ".py",
   "mimetype": "text/x-python",
   "name": "python",
   "nbconvert_exporter": "python",
   "pygments_lexer": "ipython3",
   "version": "3.12.1"
  }
 },
 "nbformat": 4,
 "nbformat_minor": 2
}
