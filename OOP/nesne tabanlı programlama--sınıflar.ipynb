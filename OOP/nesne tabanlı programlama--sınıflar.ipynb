{
 "cells": [
  {
   "cell_type": "markdown",
   "metadata": {},
   "source": [
    "#Nesne Tabanlı Programlama--Sınıflar\n",
    "\n",
    "bu konuda artık kendi veri tiplerimizi ve objelerimizi üretmeye başlayacağız\n",
    "kendi veri tiplerimizi oluşturmak ve bu veri tiplerinden objeler üretmemiz için öncelikle objeleri üreteceğimiz yapıyı tanımlamamız gerekiyor. bu tasarladığımız yapıya da sınıf veya ingilizce ismiyle class diyoruz. şimdi class yapılarını öğrenerek konumuza başlayalım"
   ]
  },
  {
   "cell_type": "markdown",
   "metadata": {},
   "source": [
    "CLASS ANAHTAR KELİMESİ"
   ]
  },
  {
   "cell_type": "markdown",
   "metadata": {},
   "source": [
    "sınıflar veya classlar objelerimizi oluştururken objelerin özelliklerini ve methodlarını tanımladığımız anlamına geliyor. biz her bir olayı bu yapıya göre üretiriz. bir araba classı tanımlayarak yapımızı kurmaya başlayalım."
   ]
  },
  {
   "cell_type": "code",
   "execution_count": 36,
   "metadata": {},
   "outputs": [],
   "source": [
    "#yeni bir araba veri tipi oluşturuyoruz\n",
    "\n",
    "class Araba():\n",
    "    model=\"Renault Megane\" \n",
    "    renk=\"gümüş\"              #sınıfımızın özelliklerini oluşturduk (attributes)\n",
    "    beygir_gücü=110\n",
    "    silindir=4"
   ]
  },
  {
   "cell_type": "markdown",
   "metadata": {},
   "source": [
    "sınıfımızda python tanımladık. peki bu sınıftan nasıl obje oluşturacağız? bunu da şu şekilde tanımlıyoruz\n",
    "obje_ismi=sınıf_ismi(parametreler(opsiyonel))"
   ]
  },
  {
   "cell_type": "code",
   "execution_count": 37,
   "metadata": {},
   "outputs": [],
   "source": [
    "araba1=Araba() #Araba veri tipinden bir \"araba1\" isminde obje oluşturduk."
   ]
  },
  {
   "cell_type": "code",
   "execution_count": 38,
   "metadata": {},
   "outputs": [
    {
     "data": {
      "text/plain": [
       "<__main__.Araba at 0x758735190ad0>"
      ]
     },
     "execution_count": 38,
     "metadata": {},
     "output_type": "execute_result"
    }
   ],
   "source": [
    "araba1 #objemizin veri tipi Araba dır"
   ]
  },
  {
   "cell_type": "code",
   "execution_count": 39,
   "metadata": {},
   "outputs": [
    {
     "name": "stdout",
     "output_type": "stream",
     "text": [
      "<class '__main__.Araba'>\n"
     ]
    }
   ],
   "source": [
    "print(type(araba1))"
   ]
  },
  {
   "cell_type": "markdown",
   "metadata": {},
   "source": [
    "araba1 objesi artık tanımladığımız bütün özelliklere(attributes) sahip olmuş oldu. işte sınıf ve obje üretmek bu şekilde olmaktadır. peki bu araba objesinimn özelliklerini nasıl görebiliriz\n",
    "\n",
    "obje_ismi.özellik_ismi"
   ]
  },
  {
   "cell_type": "code",
   "execution_count": 40,
   "metadata": {},
   "outputs": [
    {
     "data": {
      "text/plain": [
       "110"
      ]
     },
     "execution_count": 40,
     "metadata": {},
     "output_type": "execute_result"
    }
   ],
   "source": [
    "araba1.beygir_gücü"
   ]
  },
  {
   "cell_type": "code",
   "execution_count": 41,
   "metadata": {},
   "outputs": [
    {
     "data": {
      "text/plain": [
       "'Renault Megane'"
      ]
     },
     "execution_count": 41,
     "metadata": {},
     "output_type": "execute_result"
    }
   ],
   "source": [
    "araba1.model"
   ]
  },
  {
   "cell_type": "code",
   "execution_count": 42,
   "metadata": {},
   "outputs": [
    {
     "data": {
      "text/plain": [
       "'gümüş'"
      ]
     },
     "execution_count": 42,
     "metadata": {},
     "output_type": "execute_result"
    }
   ],
   "source": [
    "araba1.renk"
   ]
  },
  {
   "cell_type": "code",
   "execution_count": 43,
   "metadata": {},
   "outputs": [
    {
     "data": {
      "text/plain": [
       "4"
      ]
     },
     "execution_count": 43,
     "metadata": {},
     "output_type": "execute_result"
    }
   ],
   "source": [
    "araba1.silindir"
   ]
  },
  {
   "cell_type": "markdown",
   "metadata": {},
   "source": [
    "şimdi de başka bir araba objesi oluşturalım"
   ]
  },
  {
   "cell_type": "code",
   "execution_count": 44,
   "metadata": {},
   "outputs": [],
   "source": [
    "araba2=Araba()"
   ]
  },
  {
   "cell_type": "code",
   "execution_count": 45,
   "metadata": {},
   "outputs": [
    {
     "data": {
      "text/plain": [
       "'Renault Megane'"
      ]
     },
     "execution_count": 45,
     "metadata": {},
     "output_type": "execute_result"
    }
   ],
   "source": [
    "araba2.model"
   ]
  },
  {
   "cell_type": "code",
   "execution_count": 46,
   "metadata": {},
   "outputs": [
    {
     "data": {
      "text/plain": [
       "'gümüş'"
      ]
     },
     "execution_count": 46,
     "metadata": {},
     "output_type": "execute_result"
    }
   ],
   "source": [
    "araba2.renk"
   ]
  },
  {
   "cell_type": "code",
   "execution_count": 47,
   "metadata": {},
   "outputs": [
    {
     "data": {
      "text/plain": [
       "4"
      ]
     },
     "execution_count": 47,
     "metadata": {},
     "output_type": "execute_result"
    }
   ],
   "source": [
    "araba2.silindir"
   ]
  },
  {
   "cell_type": "markdown",
   "metadata": {},
   "source": [
    "burada gördüğünüz gibi objelerin buradaki renk,model vs özellikleri aynıdır. çünkü aslında burada tanımladığımız özellikler bir sınıfın özelliğidir. yani burada bir obje oluşturduğumuzda bu özelliklerin varsayılan olarak meydana gelir. bu özelliklerin değerlerine herhangi bir obje oluşturmadan da erişebiliriz. bunu da şu şekilde yaparız."
   ]
  },
  {
   "cell_type": "code",
   "execution_count": 48,
   "metadata": {},
   "outputs": [
    {
     "data": {
      "text/plain": [
       "'gümüş'"
      ]
     },
     "execution_count": 48,
     "metadata": {},
     "output_type": "execute_result"
    }
   ],
   "source": [
    "Araba.renk"
   ]
  },
  {
   "cell_type": "code",
   "execution_count": 49,
   "metadata": {},
   "outputs": [
    {
     "data": {
      "text/plain": [
       "'Renault Megane'"
      ]
     },
     "execution_count": 49,
     "metadata": {},
     "output_type": "execute_result"
    }
   ],
   "source": [
    "Araba.model"
   ]
  },
  {
   "cell_type": "markdown",
   "metadata": {},
   "source": [
    "bizim her objeyi başlangıçta farklı değerlerle oluşturmamız için her bir objeyi oluştururken objenin değerlerini göndermemiz gerekiyor. bunun için de özel bir methody kullanmamız gerekiyor.\n",
    "\n",
    "peki bu method nedir ve ne anlama geliyor. isterseniz ilk olarak dir() fonksiyonu yardımıyla araba1 objemizde neler var bakalım"
   ]
  },
  {
   "cell_type": "code",
   "execution_count": 50,
   "metadata": {},
   "outputs": [
    {
     "data": {
      "text/plain": [
       "['__class__',\n",
       " '__delattr__',\n",
       " '__dict__',\n",
       " '__dir__',\n",
       " '__doc__',\n",
       " '__eq__',\n",
       " '__format__',\n",
       " '__ge__',\n",
       " '__getattribute__',\n",
       " '__getstate__',\n",
       " '__gt__',\n",
       " '__hash__',\n",
       " '__init__',\n",
       " '__init_subclass__',\n",
       " '__le__',\n",
       " '__lt__',\n",
       " '__module__',\n",
       " '__ne__',\n",
       " '__new__',\n",
       " '__reduce__',\n",
       " '__reduce_ex__',\n",
       " '__repr__',\n",
       " '__setattr__',\n",
       " '__sizeof__',\n",
       " '__str__',\n",
       " '__subclasshook__',\n",
       " '__weakref__',\n",
       " 'beygir_gücü',\n",
       " 'model',\n",
       " 'renk',\n",
       " 'silindir']"
      ]
     },
     "execution_count": 50,
     "metadata": {},
     "output_type": "execute_result"
    }
   ],
   "source": [
    "dir(araba1)"
   ]
  },
  {
   "cell_type": "markdown",
   "metadata": {},
   "source": [
    "burada objenin tüm özelliklerini ve methodlarını görüyoruz. ancak biz herhangi bir method tanımlamamıştık. buradaki methodlar python tarafından bir obje oluşturulduğunda özel olarak tanımlanan methodlardır ve biz eğer özel olarak method tanımlamazsak python bunları varsayılan olarak tanımlıyor. burada aynı zamanda __init__ methodu yapıcı(constructor) fonksiyon olarak tanımlanmaktadır. bu method objelerimizi oluştururken otomatik olarak çağırılan ilk methodtur. bu methodu özel olarak tanımlayarak objelerimizi farklı değerlerle başlatabiliriz.\n",
    "\n",
    "peki bu methodu nasıl tanımlayacağız direkt örnek üzerinden gösterelim"
   ]
  },
  {
   "cell_type": "code",
   "execution_count": 53,
   "metadata": {},
   "outputs": [],
   "source": [
    "#Araba veri tipi\n",
    "class Araba():\n",
    "        #şimdilik class özelliklerine ihtiyaç yok\n",
    "        def __ini__(self):\n",
    "                print(\"init fonksiyonu çağırıldı\")"
   ]
  },
  {
   "cell_type": "code",
   "execution_count": 54,
   "metadata": {},
   "outputs": [],
   "source": [
    "araba1=Araba() #araba1 objesini oluştururken otomatik olarak __init__ methodumuz çağırılıyor"
   ]
  },
  {
   "cell_type": "markdown",
   "metadata": {},
   "source": [
    "peki burada self ne anlama geliyor? ***self*** anahtar kelimesi objeyi oluşturduğumuz zaman o objeyi gösteren bir referanstır ve methodlarımızda en başta bulunması gereken bir parametredir. yani biz bir objenin bütün özelliklerini ve methodlarını bu referans üzerinden kullanabiliriz.\n",
    "\n",
    "***objeler oluşturulurken, python bu referansı methodlara kendisi otomatik olarak gönderir. özel olarak self göndermemize gerek yoktur.***\n",
    "***init methodunu ve self'i iyi anlamak için objelerimize özellikler ekleyelim.***"
   ]
  },
  {
   "cell_type": "code",
   "execution_count": 58,
   "metadata": {},
   "outputs": [],
   "source": [
    "class Araba():\n",
    "    def __init__(self,model,renk,beygir_gücü,silindir): #parametrelerimizin değerlerini objelerimizi oluştururken göndereceğiz\n",
    "        self.model=model #self.özellik_ismi=parametre değeri şeklinde objemizin model özelliğine değeri atıyoruz\n",
    "        self.renk=renk #self.özellik_ismi=parametre değeri şeklinde objemizin renk özelliğine değeri atıyoruz\n",
    "        self.beygir_gücü=beygir_gücü\n",
    "        self.silindir=silindir\n",
    "                "
   ]
  },
  {
   "cell_type": "code",
   "execution_count": 59,
   "metadata": {},
   "outputs": [],
   "source": [
    "#araba1 objesini oluşturalım\n",
    "#artık değerlerimizi göndererek objelerimizin özelliklerini istediğimiz değerlerle başlatabiliriz.\n",
    "\n",
    "araba1=Araba(\"peugot 308\",\"beyaz\",90,4)"
   ]
  },
  {
   "cell_type": "code",
   "execution_count": 60,
   "metadata": {},
   "outputs": [],
   "source": [
    "araba2=Araba(\"Renault Megane\",\"Gümüş\",110,4)"
   ]
  },
  {
   "cell_type": "code",
   "execution_count": 61,
   "metadata": {},
   "outputs": [
    {
     "data": {
      "text/plain": [
       "'peugot 308'"
      ]
     },
     "execution_count": 61,
     "metadata": {},
     "output_type": "execute_result"
    }
   ],
   "source": [
    "araba1.model"
   ]
  },
  {
   "cell_type": "code",
   "execution_count": 62,
   "metadata": {},
   "outputs": [
    {
     "data": {
      "text/plain": [
       "'Renault Megane'"
      ]
     },
     "execution_count": 62,
     "metadata": {},
     "output_type": "execute_result"
    }
   ],
   "source": [
    "araba2.model"
   ]
  },
  {
   "cell_type": "code",
   "execution_count": 63,
   "metadata": {},
   "outputs": [
    {
     "data": {
      "text/plain": [
       "'beyaz'"
      ]
     },
     "execution_count": 63,
     "metadata": {},
     "output_type": "execute_result"
    }
   ],
   "source": [
    "araba1.renk"
   ]
  },
  {
   "cell_type": "code",
   "execution_count": 64,
   "metadata": {},
   "outputs": [
    {
     "data": {
      "text/plain": [
       "'Gümüş'"
      ]
     },
     "execution_count": 64,
     "metadata": {},
     "output_type": "execute_result"
    }
   ],
   "source": [
    "araba2.renk"
   ]
  },
  {
   "cell_type": "markdown",
   "metadata": {},
   "source": [
    "__init__ fonksiyonunu varsayılan değerlerle yazabiliriz"
   ]
  },
  {
   "cell_type": "code",
   "execution_count": 65,
   "metadata": {},
   "outputs": [],
   "source": [
    "class Araba():\n",
    "    def __init__(self,model=\"bilgi yok\",renk=\"bilgi yok\",beygir_gücü=\"bilgi yok\",silindir=\"bilgi yok\"): #parametrelerimizin değerlerini objelerimizi oluştururken göndereceğiz\n",
    "        self.model=model #self.özellik_ismi=parametre değeri şeklinde objemizin model özelliğine değeri atıyoruz\n",
    "        self.renk=renk #self.özellik_ismi=parametre değeri şeklinde objemizin renk özelliğine değeri atıyoruz\n",
    "        self.beygir_gücü=beygir_gücü\n",
    "        self.silindir=silindir"
   ]
  },
  {
   "cell_type": "code",
   "execution_count": 66,
   "metadata": {},
   "outputs": [],
   "source": [
    "araba1=Araba(beygir_gücü=85,renk=\"siyah\")"
   ]
  },
  {
   "cell_type": "code",
   "execution_count": 67,
   "metadata": {},
   "outputs": [
    {
     "data": {
      "text/plain": [
       "'siyah'"
      ]
     },
     "execution_count": 67,
     "metadata": {},
     "output_type": "execute_result"
    }
   ],
   "source": [
    "araba1.renk"
   ]
  },
  {
   "cell_type": "code",
   "execution_count": 68,
   "metadata": {},
   "outputs": [
    {
     "data": {
      "text/plain": [
       "85"
      ]
     },
     "execution_count": 68,
     "metadata": {},
     "output_type": "execute_result"
    }
   ],
   "source": [
    "araba1.beygir_gücü"
   ]
  },
  {
   "cell_type": "code",
   "execution_count": 69,
   "metadata": {},
   "outputs": [
    {
     "data": {
      "text/plain": [
       "'bilgi yok'"
      ]
     },
     "execution_count": 69,
     "metadata": {},
     "output_type": "execute_result"
    }
   ],
   "source": [
    "araba1.model"
   ]
  },
  {
   "cell_type": "markdown",
   "metadata": {},
   "source": [
    "işte burada gördüğümüz gibi her bir objeyi init methodunu kendimiz yazarak farklı değerler oluşturabiliyoruz. bir sonraki konuda kendi methodlarımızı nasıl yazacağımızı öğreneceğiz"
   ]
  }
 ],
 "metadata": {
  "kernelspec": {
   "display_name": "sanal_ortam",
   "language": "python",
   "name": "python3"
  },
  "language_info": {
   "codemirror_mode": {
    "name": "ipython",
    "version": 3
   },
   "file_extension": ".py",
   "mimetype": "text/x-python",
   "name": "python",
   "nbconvert_exporter": "python",
   "pygments_lexer": "ipython3",
   "version": "3.12.1"
  }
 },
 "nbformat": 4,
 "nbformat_minor": 2
}
