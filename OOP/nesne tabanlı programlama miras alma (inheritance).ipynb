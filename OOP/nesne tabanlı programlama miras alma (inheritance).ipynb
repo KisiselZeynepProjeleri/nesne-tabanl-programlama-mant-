{
 "cells": [
  {
   "cell_type": "markdown",
   "metadata": {},
   "source": [
    "bu konuda nesne tabanlı programlama inheritance(kalıtım ve miras alma) konseptini öğrenmeye çalışacağız. miras alma bir sınıfın başka bir sınıftan özellik(attributes) ve methodlarını almasıdır\n",
    "bu konsept aslında bizim kendi anne babamızdan değişik özellikleri ve davranışları miras almamıza benzetilebilir\n",
    "peki miras alma ne işimize yarar? örneğin bir şirket çalışanlarını tasarlamak için sınıflar oluşturuyoruz. bunun içiçn yönetici proje direktörü işçi gibi sınıflar oluşturmamız gerekiyor. aslında baktığımız zaman bu sınıfların hepsinde belli ortak methodlar ve özellikler bulunuyor.o zaman bu ortak özellikleri ve methodları tekrar tekrar bu snıfların içerisinde yazmak yerine bir tane clss tanımlayıp bu classların ortak özelliklerini ve methodlarını almalarını dağlayabilriz. kalıtımın mantığı budur.\n",
    "şimdi inheritance yapısını kurmak için öncelikle bir çalışan sınıfı oluşturalım"
   ]
  },
  {
   "cell_type": "code",
   "execution_count": 75,
   "metadata": {},
   "outputs": [],
   "source": [
    "class Çalışan():\n",
    "    def __init__(self,isim,maaş,departman):\n",
    "        print(\"çalışan sınıfı init fonksiyonu\")\n",
    "        self.isim=isim\n",
    "        self.maaş=maaş\n",
    "        self.departman=departman                          #özellikleri tanımladık\n",
    "    def bilgileriGöster(self):\n",
    "        print(\"çalışan sınıfının bilgileri...\")\n",
    "        print(f\"\"\"\n",
    "        isim: {self.isim}\n",
    "        maaş:{self.maaş} \n",
    "        departman: {self.departman} \n",
    "         \"\"\")\n",
    "    def departmanDeğiştir(self,yeni_departman):\n",
    "        print(\"departman değiştiriliyor\")\n",
    "        self.departman=yeni_departman"
   ]
  },
  {
   "cell_type": "markdown",
   "metadata": {},
   "source": [
    "çalışan sınıfını oluşturduk şimdide yönetici sınıfını çalışan sınıfından türetmeye çalışalım"
   ]
  },
  {
   "cell_type": "code",
   "execution_count": 76,
   "metadata": {},
   "outputs": [],
   "source": [
    "class Yönetici(Çalışan):#çalışan sınıfından miras aldı.\n",
    "    pass #pass değimi bir bloğu sonradan tanımlamak istediğimiz zaman kullanılan bir deyimdir"
   ]
  },
  {
   "cell_type": "markdown",
   "metadata": {},
   "source": [
    "burada yönetici sınıfınde herhangi bir şey tanımlamadık. çalışan sınıfının bütün özelliklerini ve methodlarını miras aldık. bakalım çalışan sınıfının methodlarını kullanabilecekmiyiz"
   ]
  },
  {
   "cell_type": "code",
   "execution_count": 77,
   "metadata": {},
   "outputs": [
    {
     "name": "stdout",
     "output_type": "stream",
     "text": [
      "çalışan sınıfı init fonksiyonu\n"
     ]
    }
   ],
   "source": [
    "yönetici1=Yönetici(\"emre\",100000,\"management\")"
   ]
  },
  {
   "cell_type": "code",
   "execution_count": 78,
   "metadata": {},
   "outputs": [
    {
     "name": "stdout",
     "output_type": "stream",
     "text": [
      "çalışan sınıfının bilgileri...\n",
      "\n",
      "        isim: emre\n",
      "        maaş:100000 \n",
      "        departman: management \n",
      "         \n"
     ]
    }
   ],
   "source": [
    "yönetici1.bilgileriGöster()"
   ]
  },
  {
   "cell_type": "code",
   "execution_count": 79,
   "metadata": {},
   "outputs": [
    {
     "name": "stdout",
     "output_type": "stream",
     "text": [
      "departman değiştiriliyor\n"
     ]
    }
   ],
   "source": [
    "yönetici1.departmanDeğiştir(\"insan kaynakları\")"
   ]
  },
  {
   "cell_type": "code",
   "execution_count": 80,
   "metadata": {},
   "outputs": [
    {
     "name": "stdout",
     "output_type": "stream",
     "text": [
      "çalışan sınıfının bilgileri...\n",
      "\n",
      "        isim: emre\n",
      "        maaş:100000 \n",
      "        departman: insan kaynakları \n",
      "         \n"
     ]
    }
   ],
   "source": [
    "yönetici1.bilgileriGöster()"
   ]
  },
  {
   "cell_type": "code",
   "execution_count": 81,
   "metadata": {},
   "outputs": [
    {
     "data": {
      "text/plain": [
       "['__class__',\n",
       " '__delattr__',\n",
       " '__dict__',\n",
       " '__dir__',\n",
       " '__doc__',\n",
       " '__eq__',\n",
       " '__format__',\n",
       " '__ge__',\n",
       " '__getattribute__',\n",
       " '__getstate__',\n",
       " '__gt__',\n",
       " '__hash__',\n",
       " '__init__',\n",
       " '__init_subclass__',\n",
       " '__le__',\n",
       " '__lt__',\n",
       " '__module__',\n",
       " '__ne__',\n",
       " '__new__',\n",
       " '__reduce__',\n",
       " '__reduce_ex__',\n",
       " '__repr__',\n",
       " '__setattr__',\n",
       " '__sizeof__',\n",
       " '__str__',\n",
       " '__subclasshook__',\n",
       " '__weakref__',\n",
       " 'bilgileriGöster',\n",
       " 'departman',\n",
       " 'departmanDeğiştir',\n",
       " 'isim',\n",
       " 'maaş']"
      ]
     },
     "execution_count": 81,
     "metadata": {},
     "output_type": "execute_result"
    }
   ],
   "source": [
    "#burada gördüğünüz gibi bütün özellikleri ve methodları miras aldığı için kullanabiliriz. bunu dir() methoduyla görebiliriz\n",
    "\n",
    "dir(yönetici1)"
   ]
  },
  {
   "cell_type": "markdown",
   "metadata": {},
   "source": [
    "peki biz yönetici sınıfına extra methodlar ve özellikler ekleyebiliyormuyuz? örnek olması açısından zam_yap methodunu ekleyelim\n"
   ]
  },
  {
   "cell_type": "code",
   "execution_count": 82,
   "metadata": {},
   "outputs": [],
   "source": [
    "class Yönetici(Çalışan): #çalışan sınıfından miras alıyoruz\n",
    "    def zam_yap(self,zam_miktarı):\n",
    "        print(\"zam yapılıyor\")\n",
    "        self.maaş+=zam_miktarı"
   ]
  },
  {
   "cell_type": "code",
   "execution_count": 83,
   "metadata": {},
   "outputs": [
    {
     "name": "stdout",
     "output_type": "stream",
     "text": [
      "çalışan sınıfı init fonksiyonu\n"
     ]
    }
   ],
   "source": [
    "yönetici2=Yönetici(\"mert\",50000,\"bilişim\")"
   ]
  },
  {
   "cell_type": "code",
   "execution_count": 84,
   "metadata": {},
   "outputs": [
    {
     "name": "stdout",
     "output_type": "stream",
     "text": [
      "zam yapılıyor\n"
     ]
    }
   ],
   "source": [
    "yönetici2.zam_yap(20000)"
   ]
  },
  {
   "cell_type": "code",
   "execution_count": 85,
   "metadata": {},
   "outputs": [
    {
     "name": "stdout",
     "output_type": "stream",
     "text": [
      "çalışan sınıfının bilgileri...\n",
      "\n",
      "        isim: mert\n",
      "        maaş:70000 \n",
      "        departman: bilişim \n",
      "         \n"
     ]
    }
   ],
   "source": [
    "yönetici2.bilgileriGöster()"
   ]
  },
  {
   "cell_type": "markdown",
   "metadata": {},
   "source": [
    "overriding(iptal etme)\n",
    "eğer miras aldığımız methodlaraynı isimle kendi sınıfımızda tanımlanırsa, artık methodu çağırdığımız zaman miras aldığımız değil yeniden tanımlanan method çalışsacaktır. buna nesne tabanlı programlamada overriding etme diyoruz\n",
    "örneğin artık çalışan sınıfının init methodunu kullanmak yerine yönetici sınıfında init methodunu override edebiliriz. böylece yönetici sınıfına ekstra özellikler (attributes) ekleyebiliriz"
   ]
  },
  {
   "cell_type": "code",
   "execution_count": 86,
   "metadata": {},
   "outputs": [],
   "source": [
    "class Çalışan():\n",
    "    def __init__(self,isim,maaş,departman):\n",
    "        print(\"çalışan sınıfı init fonksiyonu\")\n",
    "        self.isim=isim\n",
    "        self.maaş=maaş\n",
    "        self.departman=departman                          #özellikleri tanımladık\n",
    "    def bilgileriGöster(self):\n",
    "        print(\"çalışan sınıfının bilgileri...\")\n",
    "        print(f\"\"\"\n",
    "        isim: {self.isim}\n",
    "        maaş:{self.maaş} \n",
    "        departman: {self.departman} \n",
    "         \"\"\")\n",
    "    def departmanDeğiştir(self,yeni_departman):\n",
    "        print(\"departman değiştiriliyor\")\n",
    "        self.departman=yeni_departman"
   ]
  },
  {
   "cell_type": "code",
   "execution_count": 93,
   "metadata": {},
   "outputs": [],
   "source": [
    "class Yönetici(Çalışan):\n",
    "    def __init__(self,isim,maaş,departman,kişi_sayısı):\n",
    "        print(\"yönetici sınıfının init methodu\")\n",
    "        self.isim=isim\n",
    "        self.maaş=maaş\n",
    "        self.departman=departman\n",
    "        self.kişi_sayısı=kişi_sayısı  #yeni eleman akledik\n",
    "    \n",
    "    def zam_yap(self,zam_miktarı):\n",
    "        print(\"zam yapılıyor!\")\n",
    "        self.maaş+=zam_miktarı\n",
    "\n",
    "    def bilgileriGöster(self):\n",
    "        print(\"Yönetici sınıfının bilgileri...\")\n",
    "        print(f\"\"\"\n",
    "        isim: {self.isim}\n",
    "        maaş:{self.maaş} \n",
    "        departman: {self.departman}\n",
    "        kişi sayısı:{self.kişi_sayısı}\n",
    "         \"\"\")"
   ]
  },
  {
   "cell_type": "code",
   "execution_count": 94,
   "metadata": {},
   "outputs": [
    {
     "name": "stdout",
     "output_type": "stream",
     "text": [
      "yönetici sınıfının init methodu\n"
     ]
    }
   ],
   "source": [
    "yönetici3=Yönetici(\"arda\",60000,\"bilişim\",10)"
   ]
  },
  {
   "cell_type": "code",
   "execution_count": 95,
   "metadata": {},
   "outputs": [
    {
     "name": "stdout",
     "output_type": "stream",
     "text": [
      "zam yapılıyor!\n"
     ]
    }
   ],
   "source": [
    "yönetici3.zam_yap(30000)"
   ]
  },
  {
   "cell_type": "code",
   "execution_count": 96,
   "metadata": {},
   "outputs": [
    {
     "name": "stdout",
     "output_type": "stream",
     "text": [
      "Yönetici sınıfının bilgileri...\n",
      "\n",
      "        isim: arda\n",
      "        maaş:90000 \n",
      "        departman: bilişim\n",
      "        kişi sayısı:10\n",
      "         \n"
     ]
    }
   ],
   "source": [
    "yönetici3.bilgileriGöster()"
   ]
  },
  {
   "cell_type": "code",
   "execution_count": 97,
   "metadata": {},
   "outputs": [
    {
     "name": "stdout",
     "output_type": "stream",
     "text": [
      "yönetici sınıfının init methodu\n"
     ]
    }
   ],
   "source": [
    "yönetici4=Yönetici(\"mahir\",70000,\"pazarlama\",5)"
   ]
  },
  {
   "cell_type": "code",
   "execution_count": 98,
   "metadata": {},
   "outputs": [
    {
     "name": "stdout",
     "output_type": "stream",
     "text": [
      "Yönetici sınıfının bilgileri...\n",
      "\n",
      "        isim: mahir\n",
      "        maaş:70000 \n",
      "        departman: pazarlama\n",
      "        kişi sayısı:5\n",
      "         \n"
     ]
    }
   ],
   "source": [
    "yönetici4.bilgileriGöster()"
   ]
  },
  {
   "cell_type": "markdown",
   "metadata": {},
   "source": [
    "super().__init__() methodu"
   ]
  },
  {
   "cell_type": "code",
   "execution_count": 115,
   "metadata": {},
   "outputs": [],
   "source": [
    "class Çalışan():\n",
    "    def __init__(self,isim,maaş,departman):\n",
    "        print(\"çalışan sınıfının init methodu\")\n",
    "        self.isim=isim\n",
    "        self.maaş=maaş\n",
    "        self.departman=departman  \n",
    "    \n",
    "\n",
    "    def bilgileriGöster(self):\n",
    "        print(\"Çalışan sınıfının bilgileri...\")\n",
    "        print(f\"\"\"\n",
    "        isim: {self.isim}\n",
    "        maaş:{self.maaş} \n",
    "        departman: {self.departman}\n",
    "        \n",
    "         \"\"\")\n",
    "    def departman_değiştir(self,yeni_departman):\n",
    "        print(\"departman değiştiriliyor\")\n",
    "        self.departman=yeni_departman"
   ]
  },
  {
   "cell_type": "code",
   "execution_count": 118,
   "metadata": {},
   "outputs": [],
   "source": [
    "class Yönetici(Çalışan):\n",
    "    def __init__(self,isim,maaş,departman,kişi_sayısı):\n",
    "        super().__init__(isim,maaş,departman) #3 tane özelliği çalışan sınıfının init fonksiyonu ile hallediyoruz\n",
    "        print(\"yönetici sınıfının init fonksiyonu\")\n",
    "        self.kişi_sayısı=kişi_sayısı#ekstra özelliği kendimiz yazıyoruz\n",
    "\n",
    "    def zam_yap(self,zam_miktarı):\n",
    "        print(\"zam yapılıyorr\")\n",
    "        self.maaş+=zam_miktarı\n",
    "\n",
    "    def bilgileriGöster(self):\n",
    "        print(\"çalışan sınıfının bilgileri......\")\n",
    "        print(f\"\"\"\n",
    "        isim:{self.isim}\n",
    "        maaş:{self.maaş}\n",
    "        departman:{self.departman}\n",
    "        sorumlu kişi sayısı:{self.kişi_sayısı}\n",
    "        \"\"\")\n",
    "     "
   ]
  },
  {
   "cell_type": "markdown",
   "metadata": {},
   "source": [
    "burada super().init() diyerek çalışan sınıfının methodunu özel olarak çağırarak isim,maaş,departman özelliklerini metodla belirledik"
   ]
  },
  {
   "cell_type": "code",
   "execution_count": 120,
   "metadata": {},
   "outputs": [
    {
     "name": "stdout",
     "output_type": "stream",
     "text": [
      "çalışan sınıfının init methodu\n",
      "yönetici sınıfının init fonksiyonu\n",
      "------------------------\n",
      "çalışan sınıfının bilgileri......\n",
      "\n",
      "        isim:buse\n",
      "        maaş:40000\n",
      "        departman:insan kaynakları\n",
      "        sorumlu kişi sayısı:4\n",
      "        \n"
     ]
    }
   ],
   "source": [
    "yönetici5=Yönetici('buse',40000,'insan kaynakları',4)\n",
    "print(\"------------------------\")\n",
    "yönetici5.bilgileriGöster()"
   ]
  }
 ],
 "metadata": {
  "kernelspec": {
   "display_name": "sanal_ortam",
   "language": "python",
   "name": "python3"
  },
  "language_info": {
   "codemirror_mode": {
    "name": "ipython",
    "version": 3
   },
   "file_extension": ".py",
   "mimetype": "text/x-python",
   "name": "python",
   "nbconvert_exporter": "python",
   "pygments_lexer": "ipython3",
   "version": "3.12.1"
  }
 },
 "nbformat": 4,
 "nbformat_minor": 2
}
